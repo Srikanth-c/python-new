{
  "nbformat": 4,
  "nbformat_minor": 0,
  "metadata": {
    "colab": {
      "name": "list.ipynb",
      "provenance": [],
      "authorship_tag": "ABX9TyO5IRqqZzya12+Ngvfr/Ejr",
      "include_colab_link": true
    },
    "kernelspec": {
      "name": "python3",
      "display_name": "Python 3"
    },
    "language_info": {
      "name": "python"
    }
  },
  "cells": [
    {
      "cell_type": "markdown",
      "metadata": {
        "id": "view-in-github",
        "colab_type": "text"
      },
      "source": [
        "<a href=\"https://colab.research.google.com/github/Srikanth-c/python-new/blob/module-1/list.ipynb\" target=\"_parent\"><img src=\"https://colab.research.google.com/assets/colab-badge.svg\" alt=\"Open In Colab\"/></a>"
      ]
    },
    {
      "cell_type": "code",
      "execution_count": null,
      "metadata": {
        "colab": {
          "base_uri": "https://localhost:8080/"
        },
        "id": "gQeNIInhWdSS",
        "outputId": "24ce058f-b7c8-458f-db18-eac8db085b2a"
      },
      "outputs": [
        {
          "output_type": "stream",
          "name": "stdout",
          "text": [
            "['apple', 'banana', 'grapes', 'pineapple']\n",
            "<class 'list'>\n",
            "['apple', 'banana', 'grapes']\n",
            "grapes\n",
            "['apple', 'banana']\n",
            "apple\n"
          ]
        }
      ],
      "source": [
        "a=[\"apple\",\"banana\",\"grapes\",\"pineapple\"]\n",
        "print(a)\n",
        "print(type(a))\n",
        "print(a[0:3])\n",
        "print(a[2])\n",
        "print(a[0:-2])\n",
        "print(a[-0])"
      ]
    },
    {
      "cell_type": "code",
      "source": [
        "a=[\"apple\",\"banana\",\"grapes\",\"pineapple\"]\n",
        "print(a)\n",
        "print(type(a))\n",
        "a.append(\"stawberry\")\n",
        "print(a)\n",
        "a.insert(3,\"blue berry\")\n",
        "print(a)\n",
        "a.remove(a[3])\n",
        "print(a)"
      ],
      "metadata": {
        "colab": {
          "base_uri": "https://localhost:8080/"
        },
        "id": "uPYo_rRDXNOy",
        "outputId": "ee9470bb-f9ff-4d33-d028-e81da0c5ba7c"
      },
      "execution_count": null,
      "outputs": [
        {
          "output_type": "stream",
          "name": "stdout",
          "text": [
            "['apple', 'banana', 'grapes', 'pineapple']\n",
            "<class 'list'>\n",
            "['apple', 'banana', 'grapes', 'pineapple', 'stawberry']\n",
            "['apple', 'banana', 'grapes', 'blue berry', 'pineapple', 'stawberry']\n",
            "['apple', 'banana', 'grapes', 'pineapple', 'stawberry']\n"
          ]
        }
      ]
    },
    {
      "cell_type": "code",
      "source": [
        ""
      ],
      "metadata": {
        "id": "27FCot8XdYJg"
      },
      "execution_count": null,
      "outputs": []
    }
  ]
}