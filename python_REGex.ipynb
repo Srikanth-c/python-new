{
  "nbformat": 4,
  "nbformat_minor": 0,
  "metadata": {
    "colab": {
      "name": "python REGex.ipynb",
      "provenance": [],
      "authorship_tag": "ABX9TyNzXOG1zzbxGpikNigd58gp",
      "include_colab_link": true
    },
    "kernelspec": {
      "name": "python3",
      "display_name": "Python 3"
    },
    "language_info": {
      "name": "python"
    }
  },
  "cells": [
    {
      "cell_type": "markdown",
      "metadata": {
        "id": "view-in-github",
        "colab_type": "text"
      },
      "source": [
        "<a href=\"https://colab.research.google.com/github/Srikanth-c/python-new/blob/module-5/python_REGex.ipynb\" target=\"_parent\"><img src=\"https://colab.research.google.com/assets/colab-badge.svg\" alt=\"Open In Colab\"/></a>"
      ]
    },
    {
      "cell_type": "code",
      "execution_count": null,
      "metadata": {
        "colab": {
          "base_uri": "https://localhost:8080/"
        },
        "id": "eQVRZ2CwJaiN",
        "outputId": "9d77fb5f-74ef-4217-9c07-a8b3d7d83ff9"
      },
      "outputs": [
        {
          "output_type": "stream",
          "name": "stdout",
          "text": [
            "match\n"
          ]
        }
      ],
      "source": [
        "txt=\"i am Srikanth,studing in Gitam university 1st year.\"\n",
        "import re\n",
        "a=re. search(\"Srikanth\",txt)\n",
        "if a:\n",
        "  print(\"match\")\n",
        "else:\n",
        "    print(\"not matched\")"
      ]
    },
    {
      "cell_type": "code",
      "source": [
        "txt=\"i am Srikanth,studing in Gitam university 1st year.\"\n",
        "import re\n",
        "a=re. search(\"lol\",txt)\n",
        "if a:\n",
        "  print(\"match\")\n",
        "else:\n",
        "    print(\"not matched\")"
      ],
      "metadata": {
        "colab": {
          "base_uri": "https://localhost:8080/"
        },
        "id": "mwwbCOmiLbkl",
        "outputId": "e9880b4d-ca5a-47c7-fa1b-97e4bd25ee56"
      },
      "execution_count": null,
      "outputs": [
        {
          "output_type": "stream",
          "name": "stdout",
          "text": [
            "not matched\n"
          ]
        }
      ]
    },
    {
      "cell_type": "code",
      "source": [
        "txt=\"Paragraphs are the building blocks of papers.Many students define paragraphs in terms of length: a paragraph is a group of at least five sentences, a paragraph is half a page long, etc.In reality, though, the unity and coherence of ideas among sentences is what constitutes a paragraph. \"\n",
        "import re\n",
        "a=re.search(\"group\",txt)\n",
        "if a:\n",
        "  print(\"match\")\n",
        "else:\n",
        "    print(\"not matched\")"
      ],
      "metadata": {
        "colab": {
          "base_uri": "https://localhost:8080/"
        },
        "id": "vCatMdhYLzCs",
        "outputId": "3ab2ea4c-5df9-470c-8f4a-815b4e787d3f"
      },
      "execution_count": null,
      "outputs": [
        {
          "output_type": "stream",
          "name": "stdout",
          "text": [
            "match\n"
          ]
        }
      ]
    },
    {
      "cell_type": "code",
      "source": [
        "txt=\"Paragraphs are the building blocks of papers.Many students define paragraphs in terms of length: a paragraph is a group of at least five sentences, a paragraph is half a page long, etc.In reality, though, the unity and coherence of ideas among sentences is what constitutes a paragraph. \"\n",
        "import re\n",
        "a=re.findall(\"[a-m]\", txt)\n",
        "if a:\n",
        "  print(a)"
      ],
      "metadata": {
        "colab": {
          "base_uri": "https://localhost:8080/"
        },
        "id": "HrZD4NE-Mgeq",
        "outputId": "5aa4dead-b332-4223-ed5f-2be7aeb64159"
      },
      "execution_count": null,
      "outputs": [
        {
          "output_type": "stream",
          "name": "stdout",
          "text": [
            "['a', 'a', 'g', 'a', 'h', 'a', 'e', 'h', 'e', 'b', 'i', 'l', 'd', 'i', 'g', 'b', 'l', 'c', 'k', 'f', 'a', 'e', 'a', 'd', 'e', 'd', 'e', 'f', 'i', 'e', 'a', 'a', 'g', 'a', 'h', 'i', 'e', 'm', 'f', 'l', 'e', 'g', 'h', 'a', 'a', 'a', 'g', 'a', 'h', 'i', 'a', 'g', 'f', 'a', 'l', 'e', 'a', 'f', 'i', 'e', 'e', 'e', 'c', 'e', 'a', 'a', 'a', 'g', 'a', 'h', 'i', 'h', 'a', 'l', 'f', 'a', 'a', 'g', 'e', 'l', 'g', 'e', 'c', 'e', 'a', 'l', 'i', 'h', 'g', 'h', 'h', 'e', 'i', 'a', 'd', 'c', 'h', 'e', 'e', 'c', 'e', 'f', 'i', 'd', 'e', 'a', 'a', 'm', 'g', 'e', 'e', 'c', 'e', 'i', 'h', 'a', 'c', 'i', 'e', 'a', 'a', 'a', 'g', 'a', 'h']\n"
          ]
        }
      ]
    },
    {
      "cell_type": "code",
      "source": [
        "txt=\"a5*\"\n",
        "import re\n",
        "a=re.findall(\"\\d\", txt)\n",
        "if a:\n",
        "  print(a)"
      ],
      "metadata": {
        "colab": {
          "base_uri": "https://localhost:8080/"
        },
        "id": "pie8XNtfNnWc",
        "outputId": "652cf8cd-c7d1-4847-e8c5-a7733fcba88a"
      },
      "execution_count": null,
      "outputs": [
        {
          "output_type": "stream",
          "name": "stdout",
          "text": [
            "['5']\n"
          ]
        }
      ]
    },
    {
      "cell_type": "code",
      "source": [
        "txt=\"Hello Paragraphs are the building blocks of papers.Many students define paragraphs in terms of length: a paragraph is a group of at least five sentences, a paragraph is half a page long, etc.In reality, though, the unity and coherence of ideas among sentences is what constitutes a paragraph. \"\n",
        "import re\n",
        "a=re.findall(\"bl...s\", txt)\n",
        "if a:\n",
        "  print(a)"
      ],
      "metadata": {
        "colab": {
          "base_uri": "https://localhost:8080/"
        },
        "id": "lDhpaHQMNzH7",
        "outputId": "7b4dd639-c9d3-4280-b8df-5077290beac6"
      },
      "execution_count": null,
      "outputs": [
        {
          "output_type": "stream",
          "name": "stdout",
          "text": [
            "['blocks']\n"
          ]
        }
      ]
    },
    {
      "cell_type": "code",
      "source": [
        "import re\n",
        "\n",
        "txt = \"Hello Paragraphs are the building blocks of papers.Many students define paragraphs in terms of length: a paragraph is a group of at least five sentences, a paragraph is half a page long, etc.In reality, though, the unity and coherence of ideas among sentences is what constitutes a paragraph.\"\n",
        "\n",
        "x = re.findall(\"papers\", txt)\n",
        "if x:\n",
        "  print(\"Yes, the string ends with  'papers'\")\n",
        "else:\n",
        "  print(\"No match\")\n"
      ],
      "metadata": {
        "colab": {
          "base_uri": "https://localhost:8080/"
        },
        "id": "xfn6kmujPT0L",
        "outputId": "d1cb1b1f-031c-4f98-8355-855c40f7f55c"
      },
      "execution_count": null,
      "outputs": [
        {
          "output_type": "stream",
          "name": "stdout",
          "text": [
            "Yes, the string ends with  'papers'\n"
          ]
        }
      ]
    },
    {
      "cell_type": "code",
      "source": [
        "import re\n",
        "\n",
        "txt = \"Hello Paragraphs are the building blocks of papers.Many students define paragraphs in terms of length: a paragraph is a group of at least five sentences, a paragraph is half a page long, etc.In reality, though, the unity and coherence of ideas among sentences is what constitutes a paragraph.\"\n",
        "\n",
        "x = re.findall(\"he.*o\", txt)\n",
        "if x:\n",
        "  print(\"Yes, the string ends with  'papers'\")\n",
        "else:\n",
        "  print(\"No match\")"
      ],
      "metadata": {
        "colab": {
          "base_uri": "https://localhost:8080/"
        },
        "id": "NWDIv53rQWWb",
        "outputId": "622a1dfe-ccfd-4bfc-a3c9-d00d1fe93c05"
      },
      "execution_count": null,
      "outputs": [
        {
          "output_type": "stream",
          "name": "stdout",
          "text": [
            "Yes, the string ends with  'papers'\n"
          ]
        }
      ]
    },
    {
      "cell_type": "code",
      "source": [
        "import re\n",
        "\n",
        "txt = \"Hello Paragraphs are the building blocks of papers.Many students define paragraphs in terms of length: a paragraph is a group of at least five sentences, a paragraph is half a page long, etc.In reality, though, the unity and coherence of ideas among sentences is what constitutes a paragraph.\"\n",
        "x = re.findall(\"he.{2}o\", txt)\n",
        "\n",
        "print(x)\n"
      ],
      "metadata": {
        "id": "idTMwpMzSbCi",
        "outputId": "0bd451e2-40f5-48ce-bc54-20fbc203b189",
        "colab": {
          "base_uri": "https://localhost:8080/"
        }
      },
      "execution_count": null,
      "outputs": [
        {
          "output_type": "stream",
          "name": "stdout",
          "text": [
            "[]\n"
          ]
        }
      ]
    },
    {
      "cell_type": "code",
      "source": [
        ""
      ],
      "metadata": {
        "id": "8hn3ewNo3cPm"
      },
      "execution_count": null,
      "outputs": []
    }
  ]
}