{
  "nbformat": 4,
  "nbformat_minor": 0,
  "metadata": {
    "colab": {
      "name": "strings",
      "provenance": [],
      "collapsed_sections": [],
      "authorship_tag": "ABX9TyNQcx7RGkeKjyKWJj71b8nR",
      "include_colab_link": true
    },
    "kernelspec": {
      "name": "python3",
      "display_name": "Python 3"
    },
    "language_info": {
      "name": "python"
    }
  },
  "cells": [
    {
      "cell_type": "markdown",
      "metadata": {
        "id": "view-in-github",
        "colab_type": "text"
      },
      "source": [
        "<a href=\"https://colab.research.google.com/github/Srikanth-c/python-new/blob/module-1/strings.ipynb\" target=\"_parent\"><img src=\"https://colab.research.google.com/assets/colab-badge.svg\" alt=\"Open In Colab\"/></a>"
      ]
    },
    {
      "cell_type": "code",
      "execution_count": null,
      "metadata": {
        "colab": {
          "base_uri": "https://localhost:8080/"
        },
        "id": "cWuTTEYGYYCc",
        "outputId": "f95deff5-884e-4a19-b490-0dd8532de091"
      },
      "outputs": [
        {
          "output_type": "stream",
          "name": "stdout",
          "text": [
            "a\n",
            "<class 'str'>\n"
          ]
        }
      ],
      "source": [
        "a=\"RRR\"\n",
        "print(\"a\")\n",
        "print(type(a))"
      ]
    },
    {
      "cell_type": "code",
      "source": [
        "a=\"RRR is released\"\n",
        "print(a.upper())\n",
        "print(type(a))"
      ],
      "metadata": {
        "colab": {
          "base_uri": "https://localhost:8080/"
        },
        "id": "3CSxsh0cYiPK",
        "outputId": "e5b1fd38-7563-426c-a982-a518e9a6dd78"
      },
      "execution_count": null,
      "outputs": [
        {
          "output_type": "stream",
          "name": "stdout",
          "text": [
            "RRR IS RELEASED\n",
            "<class 'str'>\n"
          ]
        }
      ]
    },
    {
      "cell_type": "code",
      "source": [
        "a=\"RRR is released\"\n",
        "print(a.lower())\n",
        "print(type(a))"
      ],
      "metadata": {
        "colab": {
          "base_uri": "https://localhost:8080/"
        },
        "id": "yWp9VOfWY1px",
        "outputId": "21c358da-f4af-4bf2-d63b-daeb12eb90f7"
      },
      "execution_count": null,
      "outputs": [
        {
          "output_type": "stream",
          "name": "stdout",
          "text": [
            "rrr is released\n",
            "<class 'str'>\n"
          ]
        }
      ]
    },
    {
      "cell_type": "code",
      "source": [
        "a=\"  RRR is released   \"\n",
        "print(a.strip())\n",
        "print(type(a))"
      ],
      "metadata": {
        "colab": {
          "base_uri": "https://localhost:8080/"
        },
        "id": "nk1RMEKnY-jx",
        "outputId": "b1b18a76-fdc6-4fd7-8b2d-b7b0d76598ee"
      },
      "execution_count": null,
      "outputs": [
        {
          "output_type": "stream",
          "name": "stdout",
          "text": [
            "RRR is released\n",
            "<class 'str'>\n"
          ]
        }
      ]
    },
    {
      "cell_type": "code",
      "source": [
        "a=\"RRR is released\"\n",
        "print(a.replace(\"RRR\",\"radhe shyam\"))\n",
        "print(type(a))"
      ],
      "metadata": {
        "colab": {
          "base_uri": "https://localhost:8080/"
        },
        "id": "EvJr7nXRZYyj",
        "outputId": "d0806fa3-6bfb-48fd-a4ec-6db12e25ae5a"
      },
      "execution_count": null,
      "outputs": [
        {
          "output_type": "stream",
          "name": "stdout",
          "text": [
            "radhe shyam is released\n",
            "<class 'str'>\n"
          ]
        }
      ]
    },
    {
      "cell_type": "code",
      "source": [
        "a=\"  RRR is released   \"\n",
        "print(a.split())\n",
        "print(type(a))"
      ],
      "metadata": {
        "colab": {
          "base_uri": "https://localhost:8080/"
        },
        "id": "S2SLbwmfZm_R",
        "outputId": "58e65916-721e-45fc-db70-e0631af19a2b"
      },
      "execution_count": null,
      "outputs": [
        {
          "output_type": "stream",
          "name": "stdout",
          "text": [
            "['RRR', 'is', 'released']\n",
            "<class 'str'>\n"
          ]
        }
      ]
    },
    {
      "cell_type": "code",
      "source": [
        "a=\"  RRR,is, released   \"\n",
        "print(a.split(\",\"))\n",
        "print(type(a))"
      ],
      "metadata": {
        "colab": {
          "base_uri": "https://localhost:8080/"
        },
        "id": "m1sfHEeZcvvj",
        "outputId": "88800492-81e2-41e9-9bf0-eb972588b8b4"
      },
      "execution_count": null,
      "outputs": [
        {
          "output_type": "stream",
          "name": "stdout",
          "text": [
            "['  RRR', 'is', ' released   ']\n",
            "<class 'str'>\n"
          ]
        }
      ]
    },
    {
      "cell_type": "code",
      "source": [
        "a=\"RRR is released\"\n",
        "b=\" its soo good\"\n",
        "print(a+b)\n",
        "print(type(a))"
      ],
      "metadata": {
        "colab": {
          "base_uri": "https://localhost:8080/"
        },
        "id": "AXMUmzXCdgXD",
        "outputId": "22cd555a-78ce-456c-c430-7085871455b5"
      },
      "execution_count": null,
      "outputs": [
        {
          "output_type": "stream",
          "name": "stdout",
          "text": [
            "RRR is released its soo good\n",
            "<class 'str'>\n"
          ]
        }
      ]
    },
    {
      "cell_type": "code",
      "source": [
        "price=100\n",
        "quantity=3\n",
        "item=2\n",
        "name=\"pepsi\"\n",
        "myorder =\"i bought {3}  haing {0} and purchesed {1}\"\n",
        "print(myorder.format(price,quantity,item,name))"
      ],
      "metadata": {
        "colab": {
          "base_uri": "https://localhost:8080/"
        },
        "id": "af9aO4aoeiTZ",
        "outputId": "b77f3937-f6fc-4020-e18d-690ef8807cae"
      },
      "execution_count": null,
      "outputs": [
        {
          "output_type": "stream",
          "name": "stdout",
          "text": [
            "i bought pepsi  haing 100 and purchesed 3\n"
          ]
        }
      ]
    },
    {
      "cell_type": "code",
      "source": [
        "sub1=int(input(\"enter maths marks\"))\n",
        "sub2=int(input(\"enter french marks\"))\n",
        "sub3=int(input(\"enter english marks\"))\n",
        "sub4=int(input(\"enter science marks\"))\n",
        "sub5=int(input(\"enter social marks\"))\n",
        "marks=\"my maths marks are {0} french marks are {1} english marks are {2} science marks are {3} social marks are {4}\"\n",
        "print(marks.format(sub1,sub2,sub3,sub4,sub5))"
      ],
      "metadata": {
        "colab": {
          "base_uri": "https://localhost:8080/"
        },
        "id": "ih70Q2l8jhWS",
        "outputId": "d34f11db-75e2-4a9f-e529-f9dcf6e4e3b4"
      },
      "execution_count": null,
      "outputs": [
        {
          "output_type": "stream",
          "name": "stdout",
          "text": [
            "enter maths marks50\n",
            "enter french marks60\n",
            "enter english marks70\n",
            "enter science marks80\n",
            "enter social marks90\n",
            "my maths marks are 50 french marks are 60 english marks are 70 science marks are 80 social marks are 90\n"
          ]
        }
      ]
    },
    {
      "cell_type": "code",
      "source": [
        ""
      ],
      "metadata": {
        "id": "s0reDyUKmoby"
      },
      "execution_count": null,
      "outputs": []
    }
  ]
}