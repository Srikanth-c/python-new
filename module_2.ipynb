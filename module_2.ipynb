{
  "nbformat": 4,
  "nbformat_minor": 0,
  "metadata": {
    "colab": {
      "name": "module 2.ipynb",
      "provenance": [],
      "authorship_tag": "ABX9TyPoiSwzv8OQ8VQdfkg6OoVv",
      "include_colab_link": true
    },
    "kernelspec": {
      "name": "python3",
      "display_name": "Python 3"
    },
    "language_info": {
      "name": "python"
    }
  },
  "cells": [
    {
      "cell_type": "markdown",
      "metadata": {
        "id": "view-in-github",
        "colab_type": "text"
      },
      "source": [
        "<a href=\"https://colab.research.google.com/github/Srikanth-c/python-new/blob/module-2/module_2.ipynb\" target=\"_parent\"><img src=\"https://colab.research.google.com/assets/colab-badge.svg\" alt=\"Open In Colab\"/></a>"
      ]
    },
    {
      "cell_type": "code",
      "execution_count": null,
      "metadata": {
        "colab": {
          "base_uri": "https://localhost:8080/"
        },
        "id": "TtjZUXuEp4vy",
        "outputId": "828f3237-27e2-4a47-e4ad-70c2ddf073b3"
      },
      "outputs": [
        {
          "output_type": "stream",
          "name": "stdout",
          "text": [
            "77\n",
            "7\n",
            "2404808340\n"
          ]
        }
      ],
      "source": [
        "def nCr(a,b):\n",
        "    return(fact(a)/(fact(b)*fact(a-b)))\n",
        "a=int(input(\"\"))\n",
        "b=int(input(\"\"))\n",
        "def fact(a):\n",
        "  res=1\n",
        "  for i in range (2,a+1):\n",
        "   res=res*i\n",
        "  return res\n",
        "print(int(nCr(a,b)))"
      ]
    },
    {
      "cell_type": "code",
      "source": [
        "a=[\"red\",\"green\",\"white\",\"black\",\"pink\",\"yellow\"]\n",
        "del a[0]\n",
        "del a[4]\n",
        "del a[3]\n",
        "print(a)"
      ],
      "metadata": {
        "colab": {
          "base_uri": "https://localhost:8080/"
        },
        "id": "04NBVHv9rJnq",
        "outputId": "1f8dae1e-7de6-4c96-a926-3b8e30581b88"
      },
      "execution_count": null,
      "outputs": [
        {
          "output_type": "stream",
          "name": "stdout",
          "text": [
            "['green', 'white', 'black']\n"
          ]
        }
      ]
    },
    {
      "cell_type": "code",
      "source": [
        "a=(\"red\",\"white\",\"yellow\")\n",
        "b=(\"green\",\"white\",\"black\")\n",
        "c=a+b\n",
        "print(c)\n"
      ],
      "metadata": {
        "id": "L6jtVCWAzeMY",
        "colab": {
          "base_uri": "https://localhost:8080/"
        },
        "outputId": "c04416de-6320-4c2a-cb02-eeeee542c25a"
      },
      "execution_count": null,
      "outputs": [
        {
          "output_type": "stream",
          "name": "stdout",
          "text": [
            "('red', 'white', 'yellow', 'green', 'white', 'black')\n"
          ]
        }
      ]
    },
    {
      "cell_type": "code",
      "source": [
        "x = [8,9,6,3,4,1,2,4]\n",
        "def ab(x):\n",
        "  y = sorted(x)\n",
        "  x1 = y[1]\n",
        "  x2 = y[-2]\n",
        "  print(x1)\n",
        "  print(x2)\n",
        "ab(x)\n",
        "\n"
      ],
      "metadata": {
        "id": "q8zQFN82CE2A",
        "colab": {
          "base_uri": "https://localhost:8080/"
        },
        "outputId": "d8f86f08-5cfb-4818-efd4-c2be516455cf"
      },
      "execution_count": null,
      "outputs": [
        {
          "output_type": "stream",
          "name": "stdout",
          "text": [
            "2\n",
            "8\n"
          ]
        }
      ]
    },
    {
      "cell_type": "code",
      "source": [
        "sri1 = [\"a\",\"b\",\"c\",\"f\",\"e\"]\n",
        "sri2 = [\"x\",\"y\",\"c\",\"g\",\"h\"]\n",
        "kanth1 = set(sri1)\n",
        "kanth2 = set(sri2)\n",
        "def diff(kanth1,kanth2):\n",
        "  x = kanth1.difference(kanth2)\n",
        "  y = kanth2.difference(kanth1)\n",
        "  a = list(x)\n",
        "  b = list (y)\n",
        "  z = a + b\n",
        "  print(z)\n",
        "diff(kanth1,kanth2)"
      ],
      "metadata": {
        "id": "gqa8OAGHDgsv",
        "colab": {
          "base_uri": "https://localhost:8080/"
        },
        "outputId": "d9e62218-31a2-4b77-c45c-91237844351d"
      },
      "execution_count": null,
      "outputs": [
        {
          "output_type": "stream",
          "name": "stdout",
          "text": [
            "['f', 'e', 'a', 'b', 'h', 'x', 'g', 'y']\n"
          ]
        }
      ]
    },
    {
      "cell_type": "code",
      "source": [
        "sri1 = [8,4,2,5,1]\n",
        "sri2=[]\n",
        "def square():\n",
        "  for x in sri1:\n",
        "    tuple5 = (x,x*x)\n",
        "    sri2.append(tuple5)\n",
        "    tuple5 = tuple(sri2)\n",
        "  print(tuple5)\n",
        "square()"
      ],
      "metadata": {
        "colab": {
          "base_uri": "https://localhost:8080/"
        },
        "id": "SutjXlnI2tYY",
        "outputId": "0fe806c3-b0c9-4e56-fc50-27b6cd3dbc7b"
      },
      "execution_count": null,
      "outputs": [
        {
          "output_type": "stream",
          "name": "stdout",
          "text": [
            "((8, 64), (4, 16), (2, 4), (5, 25), (1, 1))\n"
          ]
        }
      ]
    },
    {
      "cell_type": "code",
      "source": [
        "sri1 = [(4,5 ), (4, ), (8, 6, 7), (1, ), (3, 4, 6, 7)]\n",
        "i = 0\n",
        "while i < len(sri1):\n",
        "  if len(sri1[i])==2:\n",
        "    sri1.pop(i)\n",
        "  i = i + 1\n",
        "print(sri1)"
      ],
      "metadata": {
        "colab": {
          "base_uri": "https://localhost:8080/"
        },
        "id": "-JqjeZpC3LaY",
        "outputId": "2a417cb1-d1e5-424d-c6cc-eefc2c339bed"
      },
      "execution_count": null,
      "outputs": [
        {
          "output_type": "stream",
          "name": "stdout",
          "text": [
            "[(4,), (8, 6, 7), (1,), (3, 4, 6, 7)]\n"
          ]
        }
      ]
    },
    {
      "cell_type": "code",
      "source": [
        "sri = int(input(\"Enter key: \"))\n",
        "sri2 = {\n",
        "    1 : \"x\",\n",
        "    2 : \"y\",\n",
        "    3 : \"z\"\n",
        "}\n",
        "del sri2[sri]\n",
        "print(sri2)"
      ],
      "metadata": {
        "colab": {
          "base_uri": "https://localhost:8080/"
        },
        "id": "aCQUfmqG3Tm3",
        "outputId": "2df09b75-2473-4347-bbd6-7026cacc14ae"
      },
      "execution_count": null,
      "outputs": [
        {
          "output_type": "stream",
          "name": "stdout",
          "text": [
            "Enter key: 1\n",
            "{2: 'y', 3: 'z'}\n"
          ]
        }
      ]
    },
    {
      "cell_type": "code",
      "source": [
        "sri1 = {5 : 100, 80 : 699, 8 : 45, 5 : 544, 7 : 984}\n",
        "\n",
        "sri2 = sorted(list(sri1.values()))\n",
        "\n",
        "min = sri2[0]\n",
        "max = sri2[-1]\n",
        "\n",
        "print(\"The minimum value is\",min , \"and the maximum is\",max)"
      ],
      "metadata": {
        "colab": {
          "base_uri": "https://localhost:8080/"
        },
        "id": "NS7ueBZp3YGa",
        "outputId": "c058d482-6496-4371-827e-1329bd74fcc7"
      },
      "execution_count": null,
      "outputs": [
        {
          "output_type": "stream",
          "name": "stdout",
          "text": [
            "The minimum value is 45 and the maximum is 984\n"
          ]
        }
      ]
    },
    {
      "cell_type": "code",
      "source": [
        "sri = \"I am going to RRR(greatest movie of tollywood) movie\"\n",
        "a = sri.split(\" \")\n",
        "b = 'to'\n",
        "count = 0\n",
        "for b in sri:\n",
        "  if b in a:\n",
        "    count = count + 1\n",
        "print(count)"
      ],
      "metadata": {
        "colab": {
          "base_uri": "https://localhost:8080/"
        },
        "id": "vGHFKnra3rYn",
        "outputId": "d53fd7de-e4af-4884-e559-dc8c29e64e83"
      },
      "execution_count": null,
      "outputs": [
        {
          "output_type": "stream",
          "name": "stdout",
          "text": [
            "1\n"
          ]
        }
      ]
    },
    {
      "cell_type": "code",
      "source": [
        "string=\"rabbit\"\n",
        "print(string.replace(\"b\",\"c\"))"
      ],
      "metadata": {
        "colab": {
          "base_uri": "https://localhost:8080/"
        },
        "id": "gQFC_QGE4I_4",
        "outputId": "f0501bbc-1b0f-49e0-df92-3c1851b1a90d"
      },
      "execution_count": null,
      "outputs": [
        {
          "output_type": "stream",
          "name": "stdout",
          "text": [
            "raccit\n"
          ]
        }
      ]
    },
    {
      "cell_type": "code",
      "source": [
        "string = input(\":\")\n",
        "flash = \"\"\n",
        "sample = string.split(\" \")\n",
        "for word in sample:\n",
        "  flash = flash + word[0].upper()\n",
        "print(flash)"
      ],
      "metadata": {
        "colab": {
          "base_uri": "https://localhost:8080/"
        },
        "id": "KpwUI5SE4MpH",
        "outputId": "71f5d626-9e7f-44e4-f95c-0264442925e4"
      },
      "execution_count": null,
      "outputs": [
        {
          "output_type": "stream",
          "name": "stdout",
          "text": [
            ":998\n",
            "9\n"
          ]
        }
      ]
    },
    {
      "cell_type": "code",
      "source": [
        "sri1 = ['abc', 'xyz', 'aba', '1221']\n",
        "for word in sri1:\n",
        "  if len(word)>2 and word[0]==word[-1]:\n",
        "    print(word)"
      ],
      "metadata": {
        "colab": {
          "base_uri": "https://localhost:8080/"
        },
        "id": "2NNnSe114RqX",
        "outputId": "29c1383b-9ea6-4935-d997-76d178ee1596"
      },
      "execution_count": null,
      "outputs": [
        {
          "output_type": "stream",
          "name": "stdout",
          "text": [
            "aba\n",
            "1221\n"
          ]
        }
      ]
    },
    {
      "cell_type": "code",
      "source": [
        ""
      ],
      "metadata": {
        "id": "UBQdJuTI4e3e"
      },
      "execution_count": null,
      "outputs": []
    }
  ]
}