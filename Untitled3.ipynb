{
  "nbformat": 4,
  "nbformat_minor": 0,
  "metadata": {
    "colab": {
      "name": "Untitled3.ipynb",
      "provenance": [],
      "authorship_tag": "ABX9TyPKP9i1mhgTGCxx05XNmxAP",
      "include_colab_link": true
    },
    "kernelspec": {
      "name": "python3",
      "display_name": "Python 3"
    },
    "language_info": {
      "name": "python"
    }
  },
  "cells": [
    {
      "cell_type": "markdown",
      "metadata": {
        "id": "view-in-github",
        "colab_type": "text"
      },
      "source": [
        "<a href=\"https://colab.research.google.com/github/Srikanth-c/python-new/blob/module-5/Untitled3.ipynb\" target=\"_parent\"><img src=\"https://colab.research.google.com/assets/colab-badge.svg\" alt=\"Open In Colab\"/></a>"
      ]
    },
    {
      "cell_type": "code",
      "execution_count": 6,
      "metadata": {
        "id": "Uo5YKEg_p08l"
      },
      "outputs": [],
      "source": [
        "def even_odd(A): \n",
        "   evenlist = [] \n",
        "   oddlist = [] \n",
        "   for i in A: \n",
        "      if (i % 2 == 0): \n",
        "         evenlist.append(i) \n",
        "      else: \n",
        "         oddlist.append(i) \n",
        "   print(\"Even lists:\", evenlist) \n",
        "   print(\"Odd lists:\", oddlist) "
      ]
    },
    {
      "cell_type": "code",
      "source": [
        ""
      ],
      "metadata": {
        "id": "WNuNty61qDGJ"
      },
      "execution_count": null,
      "outputs": []
    }
  ]
}