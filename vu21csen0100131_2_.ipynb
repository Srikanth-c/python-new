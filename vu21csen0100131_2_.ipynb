{
  "nbformat": 4,
  "nbformat_minor": 0,
  "metadata": {
    "colab": {
      "name": "vu21csen0100131 2 .ipynb",
      "provenance": [],
      "authorship_tag": "ABX9TyP4HU08yJYGfzzLAgaIrzFf",
      "include_colab_link": true
    },
    "kernelspec": {
      "name": "python3",
      "display_name": "Python 3"
    },
    "language_info": {
      "name": "python"
    }
  },
  "cells": [
    {
      "cell_type": "markdown",
      "metadata": {
        "id": "view-in-github",
        "colab_type": "text"
      },
      "source": [
        "<a href=\"https://colab.research.google.com/github/Srikanth-c/python-new/blob/module-5/vu21csen0100131_2_.ipynb\" target=\"_parent\"><img src=\"https://colab.research.google.com/assets/colab-badge.svg\" alt=\"Open In Colab\"/></a>"
      ]
    },
    {
      "cell_type": "code",
      "execution_count": 5,
      "metadata": {
        "colab": {
          "base_uri": "https://localhost:8080/"
        },
        "id": "DpbarO4ml5jo",
        "outputId": "3e27d9b7-e451-477f-a8f4-eac1178734ed"
      },
      "outputs": [
        {
          "output_type": "stream",
          "name": "stdout",
          "text": [
            "Original set elements:\n",
            "{'blue', 'Green', 'pink'}\n",
            "{'Red', 'Black', 'White'}\n",
            "\n",
            "Differenct of color_list_1 and color_list_2:\n",
            "{'blue', 'Green', 'pink'}\n"
          ]
        }
      ],
      "source": [
        "color_list_1 = set([\"blue\", \"Green\",\"pink\",])\n",
        "color_list_2 = set([\"White\", \"Black\", \"Red\",])\n",
        "print(\"Original set elements:\")\n",
        "print(color_list_1)\n",
        "print(color_list_2)\n",
        "print(\"\\nDifferenct of color_list_1 and color_list_2:\")\n",
        "print(color_list_1.difference(color_list_2))"
      ]
    },
    {
      "cell_type": "code",
      "source": [
        "def recur_fibo(n):\n",
        "   if n <= 1:\n",
        "       return n\n",
        "   else:\n",
        "       return(recur_fibo(n-1) + recur_fibo(n-2))\n",
        "nterms = 10\n",
        "if nterms <= 0:\n",
        "   print(\"Plese enter a positive integer\")\n",
        "else:\n",
        "   print(\"Fibonacci sequence:\")\n",
        "   for i in range(nterms):\n",
        "       print(recur_fibo(i))\n"
      ],
      "metadata": {
        "colab": {
          "base_uri": "https://localhost:8080/"
        },
        "id": "mjZCJP6mmV3W",
        "outputId": "4fa3076f-682c-4f0b-dd23-4b8804615a1d"
      },
      "execution_count": 6,
      "outputs": [
        {
          "output_type": "stream",
          "name": "stdout",
          "text": [
            "Fibonacci sequence:\n",
            "0\n",
            "1\n",
            "1\n",
            "2\n",
            "3\n",
            "5\n",
            "8\n",
            "13\n",
            "21\n",
            "34\n"
          ]
        }
      ]
    },
    {
      "cell_type": "code",
      "source": [
        ""
      ],
      "metadata": {
        "id": "5H0fRFsunnlj"
      },
      "execution_count": null,
      "outputs": []
    }
  ]
}